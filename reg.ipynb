{
 "cells": [
  {
   "cell_type": "code",
   "execution_count": 2,
   "metadata": {},
   "outputs": [],
   "source": [
    "import pandas as pd"
   ]
  },
  {
   "cell_type": "code",
   "execution_count": 64,
   "metadata": {},
   "outputs": [],
   "source": [
    "df = pd.read_csv(\"./ccClub_project_ptt_data_1400-1838_v4.csv\", delimiter=',').astype(str)\n",
    "df = df.drop(['Unnamed: 0', 'title', 'content', 'recommend_type', 'surgery_type', 'surgery_location'], axis=1)"
   ]
  },
  {
   "cell_type": "code",
   "execution_count": 65,
   "metadata": {},
   "outputs": [],
   "source": [
    "df1 = df.iloc[[1]]"
   ]
  },
  {
   "cell_type": "code",
   "execution_count": 66,
   "metadata": {},
   "outputs": [],
   "source": [
    "import re\n",
    "\n",
    "pattern1 = r\"[\\[a-zA-Z0-9:, ?\\./!'\\]？！~…～\\n]+\""
   ]
  },
  {
   "cell_type": "code",
   "execution_count": 70,
   "metadata": {},
   "outputs": [],
   "source": [
    "df2 = df1.replace(pattern1, '', regex=True)\n"
   ]
  },
  {
   "cell_type": "code",
   "execution_count": 71,
   "metadata": {},
   "outputs": [],
   "source": [
    "import cntext"
   ]
  },
  {
   "cell_type": "code",
   "execution_count": 75,
   "metadata": {},
   "outputs": [
    {
     "data": {
      "text/html": [
       "<div>\n",
       "<style scoped>\n",
       "    .dataframe tbody tr th:only-of-type {\n",
       "        vertical-align: middle;\n",
       "    }\n",
       "\n",
       "    .dataframe tbody tr th {\n",
       "        vertical-align: top;\n",
       "    }\n",
       "\n",
       "    .dataframe thead th {\n",
       "        text-align: right;\n",
       "    }\n",
       "</style>\n",
       "<table border=\"1\" class=\"dataframe\">\n",
       "  <thead>\n",
       "    <tr style=\"text-align: right;\">\n",
       "      <th></th>\n",
       "      <th>comment_1</th>\n",
       "      <th>comment_2</th>\n",
       "      <th>comment_3</th>\n",
       "      <th>comment_4</th>\n",
       "      <th>comment_5</th>\n",
       "      <th>comment_6</th>\n",
       "      <th>comment_7</th>\n",
       "      <th>comment_8</th>\n",
       "      <th>comment_9</th>\n",
       "      <th>comment_10</th>\n",
       "      <th>...</th>\n",
       "      <th>comment_91</th>\n",
       "      <th>comment_92</th>\n",
       "      <th>comment_93</th>\n",
       "      <th>comment_94</th>\n",
       "      <th>comment_95</th>\n",
       "      <th>comment_96</th>\n",
       "      <th>comment_97</th>\n",
       "      <th>comment_98</th>\n",
       "      <th>comment_99</th>\n",
       "      <th>comment_100</th>\n",
       "    </tr>\n",
       "  </thead>\n",
       "  <tbody>\n",
       "    <tr>\n",
       "      <th>1</th>\n",
       "      <td>False</td>\n",
       "      <td>False</td>\n",
       "      <td>True</td>\n",
       "      <td>True</td>\n",
       "      <td>False</td>\n",
       "      <td>False</td>\n",
       "      <td>False</td>\n",
       "      <td>False</td>\n",
       "      <td>False</td>\n",
       "      <td>False</td>\n",
       "      <td>...</td>\n",
       "      <td>False</td>\n",
       "      <td>False</td>\n",
       "      <td>False</td>\n",
       "      <td>False</td>\n",
       "      <td>False</td>\n",
       "      <td>False</td>\n",
       "      <td>False</td>\n",
       "      <td>False</td>\n",
       "      <td>False</td>\n",
       "      <td>False</td>\n",
       "    </tr>\n",
       "  </tbody>\n",
       "</table>\n",
       "<p>1 rows × 100 columns</p>\n",
       "</div>"
      ],
      "text/plain": [
       "   comment_1  comment_2  comment_3  comment_4  comment_5  comment_6  \\\n",
       "1      False      False       True       True      False      False   \n",
       "\n",
       "   comment_7  comment_8  comment_9  comment_10  ...  comment_91  comment_92  \\\n",
       "1      False      False      False       False  ...       False       False   \n",
       "\n",
       "   comment_93  comment_94  comment_95  comment_96  comment_97  comment_98  \\\n",
       "1       False       False       False       False       False       False   \n",
       "\n",
       "   comment_99  comment_100  \n",
       "1       False        False  \n",
       "\n",
       "[1 rows x 100 columns]"
      ]
     },
     "execution_count": 75,
     "metadata": {},
     "output_type": "execute_result"
    }
   ],
   "source": [
    "diction = {\n",
    "    'Pos': ['喜歡', '很好', '不錯', '推薦', '自然', '漂亮', '強', '推', '滿意','耐心', '超美', '不錯看'],\n",
    "    'Neg': ['不喜歡'],\n",
    "    'Adv': []\n",
    "}\n",
    "\"\"\"\n",
    "for col in df2:\n",
    "    result = cntext.sentiment(diction=diction, text=df2[col], lang=\"chinese\")\n",
    "    if result['Pos_num'] - result['Neg_num'] > 0:\n",
    "        print(df2[col])\n",
    "\"\"\"\n",
    "def sentiment(x):\n",
    "    result = cntext.sentiment(diction=diction, text=x, lang=\"chinese\")\n",
    "    return True if result['Pos_num'] - result['Neg_num'] > 0 else False\n",
    "        \n",
    "df3 = df2.applymap(sentiment)\n",
    "df3"
   ]
  }
 ],
 "metadata": {
  "kernelspec": {
   "display_name": "myenv",
   "language": "python",
   "name": "myenv"
  },
  "language_info": {
   "codemirror_mode": {
    "name": "ipython",
    "version": 3
   },
   "file_extension": ".py",
   "mimetype": "text/x-python",
   "name": "python",
   "nbconvert_exporter": "python",
   "pygments_lexer": "ipython3",
   "version": "3.8.15"
  },
  "orig_nbformat": 4
 },
 "nbformat": 4,
 "nbformat_minor": 2
}
