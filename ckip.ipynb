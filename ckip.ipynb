{
 "cells": [
  {
   "cell_type": "code",
   "execution_count": 1,
   "metadata": {},
   "outputs": [],
   "source": [
    "from ckiptagger import data_utils, construct_dictionary, WS"
   ]
  },
  {
   "cell_type": "code",
   "execution_count": 3,
   "metadata": {},
   "outputs": [
    {
     "name": "stderr",
     "output_type": "stream",
     "text": [
      "Downloading...\n",
      "From: https://drive.google.com/uc?id=1efHsY16pxK0lBD2gYCgCTnv1Swstq771\n",
      "To: /Users/dennishuang/workspace/code/recommendation/data.zip\n",
      "100%|██████████| 1.88G/1.88G [01:02<00:00, 30.2MB/s]\n"
     ]
    }
   ],
   "source": [
    "if not os.path.exists('data'):\n",
    "    data_utils.download_data_gdown(\"./\")"
   ]
  },
  {
   "cell_type": "code",
   "execution_count": null,
   "metadata": {},
   "outputs": [],
   "source": []
  },
  {
   "cell_type": "code",
   "execution_count": 4,
   "metadata": {},
   "outputs": [
    {
     "name": "stdout",
     "output_type": "stream",
     "text": [
      "exist\n"
     ]
    }
   ],
   "source": [
    "if os.path.exists('data'):\n",
    "    print('exist')\n",
    "else:\n",
    "    print('no')"
   ]
  },
  {
   "cell_type": "code",
   "execution_count": 5,
   "metadata": {},
   "outputs": [
    {
     "name": "stderr",
     "output_type": "stream",
     "text": [
      "/opt/homebrew/Caskroom/miniforge/base/envs/myenv/lib/python3.8/site-packages/ckiptagger/model_ws.py:106: UserWarning: `tf.nn.rnn_cell.LSTMCell` is deprecated and will be removed in a future version. This class is equivalent as `tf.keras.layers.LSTMCell`, and will be replaced by that in Tensorflow 2.0.\n",
      "  cell = tf.compat.v1.nn.rnn_cell.LSTMCell(hidden_d, name=name)\n",
      "2022-12-27 16:25:22.163925: I tensorflow/core/common_runtime/pluggable_device/pluggable_device_factory.cc:306] Could not identify NUMA node of platform GPU ID 0, defaulting to 0. Your kernel may not have been built with NUMA support.\n",
      "2022-12-27 16:25:22.164095: I tensorflow/core/common_runtime/pluggable_device/pluggable_device_factory.cc:272] Created TensorFlow device (/job:localhost/replica:0/task:0/device:GPU:0 with 0 MB memory) -> physical PluggableDevice (device: 0, name: METAL, pci bus id: <undefined>)\n",
      "2022-12-27 16:25:22.195189: I tensorflow/compiler/mlir/mlir_graph_optimization_pass.cc:357] MLIR V1 optimization pass is not enabled\n",
      "2022-12-27 16:25:22.283375: W tensorflow/tsl/platform/profile_utils/cpu_utils.cc:128] Failed to get CPU frequency: 0 Hz\n",
      "2022-12-27 16:25:22.305622: I tensorflow/core/grappler/optimizers/custom_graph_optimizer_registry.cc:114] Plugin optimizer for device_type GPU is enabled.\n"
     ]
    },
    {
     "name": "stdout",
     "output_type": "stream",
     "text": [
      "Metal device set to: Apple M1\n",
      "\n",
      "systemMemory: 8.00 GB\n",
      "maxCacheSize: 2.67 GB\n",
      "\n"
     ]
    },
    {
     "name": "stderr",
     "output_type": "stream",
     "text": [
      "2022-12-27 16:25:23.157891: I tensorflow/core/grappler/optimizers/custom_graph_optimizer_registry.cc:114] Plugin optimizer for device_type GPU is enabled.\n"
     ]
    }
   ],
   "source": [
    "ws = WS(\"./data\")"
   ]
  },
  {
   "cell_type": "code",
   "execution_count": 6,
   "metadata": {},
   "outputs": [],
   "source": [
    "sentence_list = [\"三位醫師都諮詢過但個人比較喜歡吳孟穎的案例線條漂亮外也沒有凹凸不平的問題比價後也覺得是能接受的範圍\"]"
   ]
  },
  {
   "cell_type": "code",
   "execution_count": 7,
   "metadata": {},
   "outputs": [
    {
     "name": "stderr",
     "output_type": "stream",
     "text": [
      "2022-12-27 16:29:24.108347: I tensorflow/core/grappler/optimizers/custom_graph_optimizer_registry.cc:114] Plugin optimizer for device_type GPU is enabled.\n"
     ]
    }
   ],
   "source": [
    "word_sentence_list = ws(\n",
    "    sentence_list,\n",
    "    # sentence_segmentation = True, # To consider delimiters\n",
    "    # segment_delimiter_set = {\",\", \"。\", \":\", \"?\", \"!\", \";\"}), # This is the defualt set of delimiters\n",
    "    # recommend_dictionary = dictionary1, # words in this dictionary are encouraged\n",
    "    # coerce_dictionary = dictionary2, # words in this dictionary are forced\n",
    ")"
   ]
  },
  {
   "cell_type": "code",
   "execution_count": 8,
   "metadata": {},
   "outputs": [
    {
     "name": "stdout",
     "output_type": "stream",
     "text": [
      "\n",
      "'三位醫師都諮詢過但個人比較喜歡吳孟穎的案例線條漂亮外也沒有凹凸不平的問題比價後也覺得是能接受的範圍'\n",
      "三)　位)　醫師)　都)　諮詢)　過)　但)　個人)　比較)　喜歡)　吳孟穎)　的)　案例)　線條)　漂亮)　外)　也)　沒有)　凹凸不平)　的)　問題)　比價)　後)　也)　覺得)　是)　能)　接受)　的)　範圍)　\n"
     ]
    }
   ],
   "source": [
    "def print_word_pos_sentence(word_sentence):\n",
    "    for word in word_sentence:\n",
    "        print(f\"{word})\", end=\"\\u3000\")\n",
    "    print()\n",
    "    return\n",
    "\n",
    "for i, sentence in enumerate(sentence_list):\n",
    "    print()\n",
    "    print(f\"'{sentence}'\")\n",
    "    print_word_pos_sentence(word_sentence_list[i])"
   ]
  },
  {
   "cell_type": "code",
   "execution_count": 12,
   "metadata": {},
   "outputs": [],
   "source": [
    "positive_words = []\n",
    "negative_words = []\n",
    "\n",
    "with open('positive_keywords.txt', encoding='Big5') as f:\n",
    "    for word in f:\n",
    "        positive_words.append(word.strip())\n",
    "with open('negative_keywords.txt', encoding='Big5') as f:\n",
    "    for word in f:\n",
    "        negative_words.append(word.strip())"
   ]
  },
  {
   "cell_type": "code",
   "execution_count": 14,
   "metadata": {},
   "outputs": [],
   "source": [
    "import pandas as pd"
   ]
  },
  {
   "cell_type": "code",
   "execution_count": 19,
   "metadata": {},
   "outputs": [],
   "source": [
    "df = pd.read_csv('comment.csv').fillna(\"\")\n"
   ]
  },
  {
   "cell_type": "code",
   "execution_count": 20,
   "metadata": {},
   "outputs": [
    {
     "data": {
      "text/html": [
       "<div>\n",
       "<style scoped>\n",
       "    .dataframe tbody tr th:only-of-type {\n",
       "        vertical-align: middle;\n",
       "    }\n",
       "\n",
       "    .dataframe tbody tr th {\n",
       "        vertical-align: top;\n",
       "    }\n",
       "\n",
       "    .dataframe thead th {\n",
       "        text-align: right;\n",
       "    }\n",
       "</style>\n",
       "<table border=\"1\" class=\"dataframe\">\n",
       "  <thead>\n",
       "    <tr style=\"text-align: right;\">\n",
       "      <th></th>\n",
       "      <th>comment_1</th>\n",
       "      <th>comment_2</th>\n",
       "      <th>comment_3</th>\n",
       "      <th>comment_4</th>\n",
       "      <th>comment_5</th>\n",
       "      <th>comment_6</th>\n",
       "      <th>comment_7</th>\n",
       "      <th>comment_8</th>\n",
       "      <th>comment_9</th>\n",
       "      <th>comment_10</th>\n",
       "      <th>...</th>\n",
       "      <th>comment_91</th>\n",
       "      <th>comment_92</th>\n",
       "      <th>comment_93</th>\n",
       "      <th>comment_94</th>\n",
       "      <th>comment_95</th>\n",
       "      <th>comment_96</th>\n",
       "      <th>comment_97</th>\n",
       "      <th>comment_98</th>\n",
       "      <th>comment_99</th>\n",
       "      <th>comment_100</th>\n",
       "    </tr>\n",
       "  </thead>\n",
       "  <tbody>\n",
       "    <tr>\n",
       "      <th>0</th>\n",
       "      <td>三位醫師都諮詢過但個人比較喜歡吳孟穎的案例線條漂亮外也沒有凹凸不平的問題比價後也覺得是能接受的範圍</td>\n",
       "      <td>馮中呵</td>\n",
       "      <td>威塑滿推賴諮詢很仔細可以先找他談過之後再決定</td>\n",
       "      <td>賴釗毅醫師</td>\n",
       "      <td>真心推教主吳孟穎醫生諮詢的時候醫生很有耐心跟我討論超久掰掰肉跟大腿線條做超美</td>\n",
       "      <td>朋友在晶美陳啟傑做大腿環抽線條不錯看</td>\n",
       "      <td>啊啊啊樓上好生火我也一直在觀望很想做，但三四年過去了都沒付諸行動喔喔喔喔樓上這麼一說我更心動了</td>\n",
       "      <td>我推薦法喬邱醫師，有圖有真相超滿意</td>\n",
       "      <td>可以找周杰看看有在台北的樣子</td>\n",
       "      <td>朋友去做知美做抽脂效果很好診所裡面的設備看起來很強</td>\n",
       "      <td>...</td>\n",
       "      <td></td>\n",
       "      <td></td>\n",
       "      <td></td>\n",
       "      <td></td>\n",
       "      <td></td>\n",
       "      <td></td>\n",
       "      <td></td>\n",
       "      <td></td>\n",
       "      <td></td>\n",
       "      <td></td>\n",
       "    </tr>\n",
       "    <tr>\n",
       "      <th>1</th>\n",
       "      <td>元和雅</td>\n",
       "      <td>我自己給法ㄨ張醫師埋線，現在我在法ㄨ做的，法令變淡小臉我覺得效手機怪怪囧</td>\n",
       "      <td>法張醫師手術做得不錯推推</td>\n",
       "      <td>年初剛去前鎮的綻美埋線，醫生技術不錯對喔，開還沒很久，我朋友說是本來慈美的店長和院長自己出來...</td>\n",
       "      <td>綻美是新開的嗎</td>\n",
       "      <td></td>\n",
       "      <td></td>\n",
       "      <td></td>\n",
       "      <td></td>\n",
       "      <td></td>\n",
       "      <td>...</td>\n",
       "      <td></td>\n",
       "      <td></td>\n",
       "      <td></td>\n",
       "      <td></td>\n",
       "      <td></td>\n",
       "      <td></td>\n",
       "      <td></td>\n",
       "      <td></td>\n",
       "      <td></td>\n",
       "      <td></td>\n",
       "    </tr>\n",
       "    <tr>\n",
       "      <th>2</th>\n",
       "      <td>可以去做看看鼻雕我自己就是玻尿酸打完就差不多消很快本人代謝比較好的關係做完鼻雕線條很美很不錯...</td>\n",
       "      <td>同問</td>\n",
       "      <td>不是有脂肪隆鼻半永久</td>\n",
       "      <td>同事在維格打覺得滿精緻你可以研究一下</td>\n",
       "      <td>推薦埋線隆鼻比玻尿酸微晶瓷更有挺度</td>\n",
       "      <td>醫美工作的朋友說微晶瓷打的好不會寬</td>\n",
       "      <td>在君綺打過，醫師細心技術好，且用鈍針打，商品也都確認後當場開</td>\n",
       "      <td>我也有去東方八千代滿推薦的</td>\n",
       "      <td>請問樓樓上，郭岱洋是找不到耶</td>\n",
       "      <td>深層注射才不會寬，但是很多醫師都不會</td>\n",
       "      <td>...</td>\n",
       "      <td></td>\n",
       "      <td></td>\n",
       "      <td></td>\n",
       "      <td></td>\n",
       "      <td></td>\n",
       "      <td></td>\n",
       "      <td></td>\n",
       "      <td></td>\n",
       "      <td></td>\n",
       "      <td></td>\n",
       "    </tr>\n",
       "    <tr>\n",
       "      <th>3</th>\n",
       "      <td>台北我推小林，不推八千代，覺得有差</td>\n",
       "      <td>楊仕安黃政傑林上立</td>\n",
       "      <td>私信我</td>\n",
       "      <td>舒顏萃玻尿酸分開做哦</td>\n",
       "      <td></td>\n",
       "      <td></td>\n",
       "      <td></td>\n",
       "      <td></td>\n",
       "      <td></td>\n",
       "      <td></td>\n",
       "      <td>...</td>\n",
       "      <td></td>\n",
       "      <td></td>\n",
       "      <td></td>\n",
       "      <td></td>\n",
       "      <td></td>\n",
       "      <td></td>\n",
       "      <td></td>\n",
       "      <td></td>\n",
       "      <td></td>\n",
       "      <td></td>\n",
       "    </tr>\n",
       "    <tr>\n",
       "      <th>4</th>\n",
       "      <td>月去新聖給楊醫師縫，很滿意</td>\n",
       "      <td>我給割，周邊人都說很自然沒有肉條感`的很多面，有點出其他醫生沒說到的問題上面段字，諮詢時看的很多面</td>\n",
       "      <td>雙眼皮就是新聖沒有其他選擇</td>\n",
       "      <td>新聖真的強楊醫生要求完美到讓人很放</td>\n",
       "      <td>推陳建璋醫師</td>\n",
       "      <td>雙眼皮真的就是新聖最推，眼睛的手術價錢就不是首要考量點了，做壞很明顯</td>\n",
       "      <td>雙眼皮我推名單外的首爾醫美，之前一直想去韓國做雙眼皮但因為疫情去不了&gt;&lt;在台北諮詢了好幾家終...</td>\n",
       "      <td>推新聖+蕭有拍過雙眼皮介紹的影片可以去找一下記得那時候第一次聽到她的聲音有嚇到跟想像中不一樣</td>\n",
       "      <td>推儷人的鍾醫師他的技術很好而且手術完素眼的雙眼皮高度很自然</td>\n",
       "      <td></td>\n",
       "      <td>...</td>\n",
       "      <td></td>\n",
       "      <td></td>\n",
       "      <td></td>\n",
       "      <td></td>\n",
       "      <td></td>\n",
       "      <td></td>\n",
       "      <td></td>\n",
       "      <td></td>\n",
       "      <td></td>\n",
       "      <td></td>\n",
       "    </tr>\n",
       "  </tbody>\n",
       "</table>\n",
       "<p>5 rows × 100 columns</p>\n",
       "</div>"
      ],
      "text/plain": [
       "                                           comment_1  \\\n",
       "0  三位醫師都諮詢過但個人比較喜歡吳孟穎的案例線條漂亮外也沒有凹凸不平的問題比價後也覺得是能接受的範圍   \n",
       "1                                                元和雅   \n",
       "2  可以去做看看鼻雕我自己就是玻尿酸打完就差不多消很快本人代謝比較好的關係做完鼻雕線條很美很不錯...   \n",
       "3                                  台北我推小林，不推八千代，覺得有差   \n",
       "4                                      月去新聖給楊醫師縫，很滿意   \n",
       "\n",
       "                                           comment_2               comment_3  \\\n",
       "0                                                馮中呵  威塑滿推賴諮詢很仔細可以先找他談過之後再決定   \n",
       "1               我自己給法ㄨ張醫師埋線，現在我在法ㄨ做的，法令變淡小臉我覺得效手機怪怪囧            法張醫師手術做得不錯推推   \n",
       "2                                                 同問              不是有脂肪隆鼻半永久   \n",
       "3                                          楊仕安黃政傑林上立                     私信我   \n",
       "4  我給割，周邊人都說很自然沒有肉條感`的很多面，有點出其他醫生沒說到的問題上面段字，諮詢時看的很多面           雙眼皮就是新聖沒有其他選擇   \n",
       "\n",
       "                                           comment_4  \\\n",
       "0                                              賴釗毅醫師   \n",
       "1  年初剛去前鎮的綻美埋線，醫生技術不錯對喔，開還沒很久，我朋友說是本來慈美的店長和院長自己出來...   \n",
       "2                                 同事在維格打覺得滿精緻你可以研究一下   \n",
       "3                                         舒顏萃玻尿酸分開做哦   \n",
       "4                                  新聖真的強楊醫生要求完美到讓人很放   \n",
       "\n",
       "                                comment_5                           comment_6  \\\n",
       "0  真心推教主吳孟穎醫生諮詢的時候醫生很有耐心跟我討論超久掰掰肉跟大腿線條做超美                  朋友在晶美陳啟傑做大腿環抽線條不錯看   \n",
       "1                                 綻美是新開的嗎                                       \n",
       "2                       推薦埋線隆鼻比玻尿酸微晶瓷更有挺度                   醫美工作的朋友說微晶瓷打的好不會寬   \n",
       "3                                                                               \n",
       "4                                  推陳建璋醫師  雙眼皮真的就是新聖最推，眼睛的手術價錢就不是首要考量點了，做壞很明顯   \n",
       "\n",
       "                                           comment_7  \\\n",
       "0    啊啊啊樓上好生火我也一直在觀望很想做，但三四年過去了都沒付諸行動喔喔喔喔樓上這麼一說我更心動了   \n",
       "1                                                      \n",
       "2                     在君綺打過，醫師細心技術好，且用鈍針打，商品也都確認後當場開   \n",
       "3                                                      \n",
       "4  雙眼皮我推名單外的首爾醫美，之前一直想去韓國做雙眼皮但因為疫情去不了><在台北諮詢了好幾家終...   \n",
       "\n",
       "                                        comment_8  \\\n",
       "0                               我推薦法喬邱醫師，有圖有真相超滿意   \n",
       "1                                                   \n",
       "2                                   我也有去東方八千代滿推薦的   \n",
       "3                                                   \n",
       "4  推新聖+蕭有拍過雙眼皮介紹的影片可以去找一下記得那時候第一次聽到她的聲音有嚇到跟想像中不一樣   \n",
       "\n",
       "                       comment_9                 comment_10  ... comment_91  \\\n",
       "0                 可以找周杰看看有在台北的樣子  朋友去做知美做抽脂效果很好診所裡面的設備看起來很強  ...              \n",
       "1                                                            ...              \n",
       "2                 請問樓樓上，郭岱洋是找不到耶         深層注射才不會寬，但是很多醫師都不會  ...              \n",
       "3                                                            ...              \n",
       "4  推儷人的鍾醫師他的技術很好而且手術完素眼的雙眼皮高度很自然                             ...              \n",
       "\n",
       "  comment_92 comment_93 comment_94 comment_95 comment_96 comment_97  \\\n",
       "0                                                                     \n",
       "1                                                                     \n",
       "2                                                                     \n",
       "3                                                                     \n",
       "4                                                                     \n",
       "\n",
       "  comment_98 comment_99 comment_100  \n",
       "0                                    \n",
       "1                                    \n",
       "2                                    \n",
       "3                                    \n",
       "4                                    \n",
       "\n",
       "[5 rows x 100 columns]"
      ]
     },
     "execution_count": 20,
     "metadata": {},
     "output_type": "execute_result"
    }
   ],
   "source": [
    "df.head()"
   ]
  },
  {
   "cell_type": "code",
   "execution_count": 22,
   "metadata": {},
   "outputs": [],
   "source": [
    "def sentiment(x):\n",
    "   if len(x) == 0:\n",
    "      return 0\n",
    "   word_sentence_list = ws(list(x))\n",
    "   pos, neg = 0, 0\n",
    "   for word in word_sentence_list[0]:\n",
    "      if word in positive_words:\n",
    "         pos += 1\n",
    "      elif word in negative_words:\n",
    "         neg += 1\n",
    "   return pos - neg\n",
    "\n",
    "df2 = df.applymap(sentiment)"
   ]
  }
 ],
 "metadata": {
  "kernelspec": {
   "display_name": "myenv",
   "language": "python",
   "name": "python3"
  },
  "language_info": {
   "codemirror_mode": {
    "name": "ipython",
    "version": 3
   },
   "file_extension": ".py",
   "mimetype": "text/x-python",
   "name": "python",
   "nbconvert_exporter": "python",
   "pygments_lexer": "ipython3",
   "version": "3.8.15"
  },
  "orig_nbformat": 4,
  "vscode": {
   "interpreter": {
    "hash": "857970f990130bbcaee778cf1846f7875676d945310dca1379fe4b5ef3d258a5"
   }
  }
 },
 "nbformat": 4,
 "nbformat_minor": 2
}
